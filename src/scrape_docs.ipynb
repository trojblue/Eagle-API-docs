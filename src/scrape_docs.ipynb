{
 "cells": [
  {
   "cell_type": "markdown",
   "metadata": {},
   "source": [
    "steps:\n",
    "\n",
    "1. get a page (to get the new index): https://developer.eagle.cool/plugin-api\n",
    "2. save index to `index.md`\n",
    "3. ue this script to go through all pages listed in the index, and save them as markdown locally"
   ]
  },
  {
   "cell_type": "code",
   "execution_count": 3,
   "metadata": {},
   "outputs": [],
   "source": [
    "# !pip install mistune"
   ]
  },
  {
   "cell_type": "markdown",
   "metadata": {},
   "source": [
    "index -> links:"
   ]
  },
  {
   "cell_type": "code",
   "execution_count": null,
   "metadata": {},
   "outputs": [
    {
     "name": "stdout",
     "output_type": "stream",
     "text": [
      "Found 41 links | Ignored 2 links\n"
     ]
    },
    {
     "data": {
      "text/plain": [
       "[('Introduction', '/plugin-api'),\n",
       " ('Your First Plugin', '/plugin-api/get-started/creating-your-first-plugin'),\n",
       " ('File Structure Overview',\n",
       "  '/plugin-api/get-started/anatomy-of-an-extension'),\n",
       " ('Plugin Types', '/plugin-api/get-started/plugin-types'),\n",
       " ('Window', '/plugin-api/get-started/plugin-types/window')]"
      ]
     },
     "execution_count": 1,
     "metadata": {},
     "output_type": "execute_result"
    }
   ],
   "source": [
    "import re\n",
    "import sys\n",
    "import os\n",
    "from tqdm.auto import tqdm\n",
    "\n",
    "\n",
    "# Get the absolute path of the src directory\n",
    "sys.path.append(os.path.abspath(\"../src\"))\n",
    "from url_to_md import url_to_md\n",
    "\n",
    "def parse_index_to_links(index_file, ignore_strings=[\"https://www.gitbook.com/\", \"https://www.figma.com/\"]):\n",
    "    with open(index_file, \"r\") as f:\n",
    "        index_md = f.read()\n",
    "\n",
    "    # Regex pattern to match markdown links\n",
    "    link_pattern = re.compile(r'\\[(.*?)\\]\\((.*?)\\)')\n",
    "\n",
    "    # Extract links\n",
    "    links = link_pattern.findall(index_md)    \n",
    "\n",
    "    returns, ignores = [], []\n",
    "    for text, url in links:\n",
    "        # Ignore links that contain ignore strings\n",
    "        if any(ignore_string in url for ignore_string in ignore_strings):\n",
    "            ignores.append((text, url))\n",
    "        else:\n",
    "            returns.append((text, url))\n",
    "\n",
    "    \n",
    "    print(f\"Found {len(returns)} links | Ignored {len(ignores)} links\")\n",
    "    return returns\n",
    "\n",
    "\n",
    "def postprocess_eagle_md(md_str) -> str:\n",
    "    \"\"\"remove unwanted things (such as header, index, etc from a parsed eagle docs page)\n",
    "\n",
    "    Returns:\n",
    "        str: cleaned markdown documentation\n",
    "    \"\"\"\n",
    "    lines = md_str.split(\"\\n\")\n",
    "\n",
    "    # find first line that contains \"Powered by GitBook\"\n",
    "    powered_by_gitbook_index = None\n",
    "    for i, line in enumerate(lines):\n",
    "        if \"Powered by GitBook\" in line:\n",
    "            powered_by_gitbook_index = i\n",
    "            break\n",
    "    \n",
    "    if powered_by_gitbook_index is not None:\n",
    "        lines = lines[powered_by_gitbook_index+1:]\n",
    "    else:\n",
    "        print(\"WARNING: Powered by GitBook not found in the markdown\")\n",
    "    \n",
    "    return \"\\n\".join(lines).strip()\n",
    "\n",
    "def sanitize_filename(name):\n",
    "    \"\"\"Sanitize the filename by replacing invalid characters and spaces\"\"\"\n",
    "    name = name.strip().replace(\" \", \"_\")  # Replace spaces with underscores\n",
    "    name = re.sub(r'[^\\w\\-_().]', '', name)  # Remove any special characters except allowed ones\n",
    "    return name + \".md\"\n",
    "\n",
    "def save_md(md_str, file_path):\n",
    "    \"\"\"Ensure directory exists and save markdown file\"\"\"\n",
    "    os.makedirs(os.path.dirname(file_path), exist_ok=True)\n",
    "    with open(file_path, \"w\", encoding=\"utf-8\") as f:\n",
    "        f.write(md_str)"
   ]
  },
  {
   "cell_type": "markdown",
   "metadata": {},
   "source": [
    "index -> links:"
   ]
  },
  {
   "cell_type": "code",
   "execution_count": null,
   "metadata": {},
   "outputs": [],
   "source": [
    "INDEX_FILE = \"../docs/index.md\"\n",
    "ignore_strings = [\n",
    "    \"https://www.figma.com/\",\n",
    "    \"https://www.gitbook.com/\",\n",
    "]\n",
    "\n",
    "\n",
    "links = parse_index_to_links(INDEX_FILE, ignore_strings=ignore_strings)\n",
    "links[:5]"
   ]
  },
  {
   "cell_type": "markdown",
   "metadata": {},
   "source": [
    "links -> markdown:"
   ]
  },
  {
   "cell_type": "code",
   "execution_count": null,
   "metadata": {},
   "outputs": [
    {
     "name": "stdout",
     "output_type": "stream",
     "text": [
      "Processing Introduction | /plugin-api\n",
      "Saved: ../docs\\Introduction.md\n",
      "Processing Your First Plugin | /plugin-api/get-started/creating-your-first-plugin\n",
      "Saved: ../docs\\plugin-api/get-started\\Your_First_Plugin.md\n",
      "Processing File Structure Overview | /plugin-api/get-started/anatomy-of-an-extension\n",
      "Saved: ../docs\\plugin-api/get-started\\File_Structure_Overview.md\n",
      "Processing Plugin Types | /plugin-api/get-started/plugin-types\n",
      "Saved: ../docs\\plugin-api/get-started\\Plugin_Types.md\n",
      "Processing Window | /plugin-api/get-started/plugin-types/window\n",
      "Saved: ../docs\\plugin-api/get-started/plugin-types\\Window.md\n",
      "Processing Background Service | /plugin-api/get-started/plugin-types/service\n",
      "Saved: ../docs\\plugin-api/get-started/plugin-types\\Background_Service.md\n",
      "Processing Format Extension | /plugin-api/get-started/plugin-types/preview\n",
      "Saved: ../docs\\plugin-api/get-started/plugin-types\\Format_Extension.md\n",
      "Processing Inspector | /plugin-api/get-started/plugin-types/inspector\n",
      "Saved: ../docs\\plugin-api/get-started/plugin-types\\Inspector.md\n",
      "Processing Debug Plugin | /plugin-api/get-started/debugging\n",
      "Saved: ../docs\\plugin-api/get-started\\Debug_Plugin.md\n",
      "Processing Prepare Plugin | /plugin-api/distribution/prepare\n",
      "Saved: ../docs\\plugin-api/distribution\\Prepare_Plugin.md\n",
      "Processing Package Plugin | /plugin-api/distribution/package\n",
      "Saved: ../docs\\plugin-api/distribution\\Package_Plugin.md\n",
      "Processing Publish Plugin | /plugin-api/distribution/publish\n",
      "Saved: ../docs\\plugin-api/distribution\\Publish_Plugin.md\n",
      "Processing Update Plugin | /plugin-api/distribution/update\n",
      "Saved: ../docs\\plugin-api/distribution\\Update_Plugin.md\n",
      "Processing Developer Policies | /plugin-api/distribution/developer-policies\n",
      "Saved: ../docs\\plugin-api/distribution\\Developer_Policies.md\n",
      "Processing manifest.json Configuration | /plugin-api/tutorial/manifest\n",
      "Saved: ../docs\\plugin-api/tutorial\\manifest.json_Configuration.md\n",
      "Processing Retrieve Data | /plugin-api/tutorial/get-eagle-data\n",
      "Saved: ../docs\\plugin-api/tutorial\\Retrieve_Data.md\n",
      "Processing Modify Data | /plugin-api/tutorial/modify-eagle-data\n",
      "Saved: ../docs\\plugin-api/tutorial\\Modify_Data.md\n",
      "Processing Access Local Files | /plugin-api/tutorial/access-local-files\n",
      "Saved: ../docs\\plugin-api/tutorial\\Access_Local_Files.md\n",
      "Processing Issue Network Requests | /plugin-api/tutorial/network-request\n",
      "Saved: ../docs\\plugin-api/tutorial\\Issue_Network_Requests.md\n",
      "Processing Using Node.js Native API | /plugin-api/tutorial/node-js-native-api\n",
      "Saved: ../docs\\plugin-api/tutorial\\Using_Node.js_Native_API.md\n",
      "Processing Using Third-Party Modules | /plugin-api/tutorial/3rd-modules\n",
      "Saved: ../docs\\plugin-api/tutorial\\Using_Third-Party_Modules.md\n",
      "Processing Multilingual (i18n) | /plugin-api/tutorial/i18n\n",
      "Saved: ../docs\\plugin-api/tutorial\\Multilingual_(i18n).md\n",
      "Processing Frameless Window | /plugin-api/tutorial/frameless-window\n",
      "Saved: ../docs\\plugin-api/tutorial\\Frameless_Window.md\n",
      "Processing event | /plugin-api/api/event\n",
      "Saved: ../docs\\plugin-api/api\\event.md\n",
      "Processing item | /plugin-api/api/item\n",
      "Saved: ../docs\\plugin-api/api\\item.md\n",
      "Processing folder | /plugin-api/api/folder\n",
      "Saved: ../docs\\plugin-api/api\\folder.md\n",
      "Processing tag | /plugin-api/api/tag\n",
      "Saved: ../docs\\plugin-api/api\\tag.md\n",
      "Processing tagGroup | /plugin-api/api/tag-group\n",
      "Saved: ../docs\\plugin-api/api\\tagGroup.md\n",
      "Processing library | /plugin-api/api/library\n",
      "Saved: ../docs\\plugin-api/api\\library.md\n",
      "Processing window | /plugin-api/api/window\n",
      "Saved: ../docs\\plugin-api/api\\window.md\n",
      "Processing app | /plugin-api/api/app\n",
      "Saved: ../docs\\plugin-api/api\\app.md\n",
      "Processing os | /plugin-api/api/os\n",
      "Saved: ../docs\\plugin-api/api\\os.md\n",
      "Processing screen | /plugin-api/api/screen\n",
      "Saved: ../docs\\plugin-api/api\\screen.md\n",
      "Processing notification | /plugin-api/api/notification\n",
      "Saved: ../docs\\plugin-api/api\\notification.md\n",
      "Processing contextMenu | /plugin-api/api/context-menu\n",
      "Saved: ../docs\\plugin-api/api\\contextMenu.md\n",
      "Processing dialog | /plugin-api/api/dialog\n",
      "Saved: ../docs\\plugin-api/api\\dialog.md\n",
      "Processing clipboard | /plugin-api/api/clipboard\n",
      "Saved: ../docs\\plugin-api/api\\clipboard.md\n",
      "Processing drag | /plugin-api/api/drag\n",
      "Saved: ../docs\\plugin-api/api\\drag.md\n",
      "Processing shell | /plugin-api/api/shell\n",
      "Saved: ../docs\\plugin-api/api\\shell.md\n",
      "Processing log | /plugin-api/api/log\n",
      "Saved: ../docs\\plugin-api/api\\log.md\n",
      "Processing FFmpeg | /plugin-api/extra-module/ffmpeg\n",
      "Saved: ../docs\\plugin-api/extra-module\\FFmpeg.md\n"
     ]
    }
   ],
   "source": [
    "EAGLE_DOCS_ROOT = \"https://developer.eagle.cool\".rstrip(\"/\")\n",
    "MD_SAVE_DIR = \"../docs\"\n",
    "\n",
    "\n",
    "\n",
    "for curr_name, curr_page in tqdm(links):\n",
    "    print(f\"Processing {curr_name} | {curr_page}\")\n",
    "\n",
    "    curr_link = f\"{EAGLE_DOCS_ROOT}{curr_page}\"\n",
    "    curr_md = url_to_md(curr_link)\n",
    "    curr_md = postprocess_eagle_md(curr_md)\n",
    "\n",
    "    # Convert web path into directory structure while using a readable filename\n",
    "    sanitized_filename = sanitize_filename(curr_name)\n",
    "    full_path = os.path.join(MD_SAVE_DIR, os.path.dirname(curr_page.lstrip(\"/\")), sanitized_filename)\n",
    "\n",
    "    save_md(curr_md, full_path)\n",
    "\n",
    "    print(f\"Saved: {full_path}\")"
   ]
  }
 ],
 "metadata": {
  "kernelspec": {
   "display_name": "Python 3",
   "language": "python",
   "name": "python3"
  },
  "language_info": {
   "codemirror_mode": {
    "name": "ipython",
    "version": 3
   },
   "file_extension": ".py",
   "mimetype": "text/x-python",
   "name": "python",
   "nbconvert_exporter": "python",
   "pygments_lexer": "ipython3",
   "version": "3.10.0"
  }
 },
 "nbformat": 4,
 "nbformat_minor": 2
}
